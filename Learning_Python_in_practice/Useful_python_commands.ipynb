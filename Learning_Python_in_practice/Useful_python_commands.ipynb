{
 "cells": [
  {
   "cell_type": "markdown",
   "id": "8b8e67f3",
   "metadata": {},
   "source": [
    "1. `python -c \"import basicutility.slicetools\"`\n",
    "\n",
    "    - -c tells Python to execute a command passed as a string\n",
    "    - Everything inside \"\" is a Python command\n",
    "    \n",
    "    You can run it from any directory, as long as:\n",
    "\n",
    "    1. The correct Conda environment is activated (if using Conda).\n",
    "    2. The `basicutility` package is installed in the active Python environment.\n",
    "    3. Python can find the package in its `sys.path`.\n",
    "\n",
    "    - `python -c <command>` → Runs a Python command directly from the terminal without starting an interactive Python session.\n",
    "    - `-c` stands for command\n",
    "\n",
    "    `import basicutility.slicetools` → Tries to import the module to check if the modification was successful.\n",
    "\n",
    "    1. Quickly test if the error is fixed without running the full script.\n",
    "    2. Check if `slicetools.py` is correctly modified (i.e., no syntax errors).\n",
    "    3. Verify that Python can still find and load the `basicutility.slicetools` module.\n",
    "\n",
    "**No error message means the module loads correctly.**"
   ]
  },
  {
   "cell_type": "markdown",
   "id": "41608216",
   "metadata": {},
   "source": [
    "2. `python -c \"compile(open('inference.py').read(), 'inference.py', 'exec')\"`\n",
    "\n",
    "    - `compile(source, filename, mode)` checks the Python syntax in source (the code from `inference.py`).\n",
    "    - Opens `inference.py` and reads its contents as a string: `code = open(\"inference.py\").read()`\n",
    "    - `inference.py` → Used for error reporting (so errors show the correct filename).\n",
    "    - `exec` → Tells Python that this is a full script, not an expression or a function.\n",
    "    \n",
    "check if an indentation error in a specific script, e.g., inference.py. **If there is no syntax error, nothing is printed.**"
   ]
  },
  {
   "cell_type": "markdown",
   "id": "e50913e6",
   "metadata": {},
   "source": [
    "3. `python -m py_compile inference.py`\n",
    "\n",
    "If no errors exist, nothing happens."
   ]
  },
  {
   "cell_type": "markdown",
   "id": "ff415b7a",
   "metadata": {},
   "source": [
    "4. flake8 inference.py\n",
    "\n",
    "more detailed syntax checks"
   ]
  }
 ],
 "metadata": {
  "kernelspec": {
   "display_name": "Python 3 (ipykernel)",
   "language": "python",
   "name": "python3"
  },
  "language_info": {
   "codemirror_mode": {
    "name": "ipython",
    "version": 3
   },
   "file_extension": ".py",
   "mimetype": "text/x-python",
   "name": "python",
   "nbconvert_exporter": "python",
   "pygments_lexer": "ipython3",
   "version": "3.12.7"
  },
  "toc": {
   "base_numbering": 1,
   "nav_menu": {},
   "number_sections": true,
   "sideBar": true,
   "skip_h1_title": false,
   "title_cell": "Table of Contents",
   "title_sidebar": "Contents",
   "toc_cell": false,
   "toc_position": {},
   "toc_section_display": true,
   "toc_window_display": false
  }
 },
 "nbformat": 4,
 "nbformat_minor": 5
}
