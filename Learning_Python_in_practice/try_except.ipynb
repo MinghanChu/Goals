{
 "cells": [
  {
   "cell_type": "markdown",
   "id": "392cf96f",
   "metadata": {},
   "source": [
    "# Debug in Python"
   ]
  },
  {
   "cell_type": "code",
   "execution_count": 1,
   "id": "587e4472",
   "metadata": {},
   "outputs": [
    {
     "name": "stdout",
     "output_type": "stream",
     "text": [
      "An error was logged.\n"
     ]
    }
   ],
   "source": [
    "try:\n",
    "    num = int(\"abc\")\n",
    "except Exception as e:\n",
    "    with open(\"error_log.txt\", \"a\") as file:\n",
    "        file.write(f\"Error: {e}\\n\")\n",
    "    print(\"An error was logged.\")"
   ]
  },
  {
   "cell_type": "markdown",
   "id": "3a36bd62",
   "metadata": {},
   "source": [
    "`try` executes code that might fail, `except` catches errors and `e` stores the error message.\n",
    " \n",
    "`try`, `except`, `with` are statements in python, they are implemented in C. Unlike C++ which is mainly written in C++ itself.\n",
    "\n",
    "`Exception` is a class and will be instantiated when an error occurs."
   ]
  }
 ],
 "metadata": {
  "kernelspec": {
   "display_name": "Python 3 (ipykernel)",
   "language": "python",
   "name": "python3"
  },
  "language_info": {
   "codemirror_mode": {
    "name": "ipython",
    "version": 3
   },
   "file_extension": ".py",
   "mimetype": "text/x-python",
   "name": "python",
   "nbconvert_exporter": "python",
   "pygments_lexer": "ipython3",
   "version": "3.12.7"
  },
  "toc": {
   "base_numbering": 1,
   "nav_menu": {},
   "number_sections": true,
   "sideBar": true,
   "skip_h1_title": false,
   "title_cell": "Table of Contents",
   "title_sidebar": "Contents",
   "toc_cell": false,
   "toc_position": {},
   "toc_section_display": true,
   "toc_window_display": false
  }
 },
 "nbformat": 4,
 "nbformat_minor": 5
}
