{
 "cells": [
  {
   "cell_type": "markdown",
   "id": "27db6e2c",
   "metadata": {},
   "source": [
    "# Uncertainty quantification\n",
    "\n",
    "## Uncertainty quantification in CFD\n",
    "\n",
    "In CFD, modeling approaches are generally classified into DNS, LES, and RANS. DNS is renowned for its extreme accuracy, as it directly resolves all relevant turbulence scales, closely approximating real fluid dynamics. However, DNS, like all CFD methods, is fundamentally based on the continuum assumption, which treats fluid as a continuous medium rather than a collection of discrete molecules. In reality, fluids consist of discrete molecular particles, leading to intrinsic turbulence stochasticity that DNS and other CFD models do not fully capture. True stochasticity in turbulence implies that even with identical experimental conditions, repeated tests will never produce the exact same spatiotemporal flow field. This fundamental randomness is a result of microscopic molecular interactions and chaotic turbulence dynamics, which are inherently absent in deterministic CFD formulations.\n",
    "\n",
    "Every CFD model is deterministic relative to a higher-fidelity model that better approximates real physics; no model can fully reproduce the true stochasticity of turbulence in a fundamental sense. DNS, for example, is entirely deterministic—given the same initial and boundary conditions, it will always produce the same solution. However, the instantaneous variations in DNS flow fields mimic the real turbulence stochasticity, even though DNS itself remains a deterministic system. As of now, DNS is the most accurate CFD approach ever developed, serving as the absolute reference within computational fluid dynamics. While true turbulence stochasticity in nature remains beyond reach, uncertainty quantification relative to real physics is not a practical focus due to insurmountable technological challenges. Instead, DNS is widely regarded as the best available method for capturing turbulence randomness, despite its inherent limitations under the continuum assumption.\n",
    "\n",
    "Given the absolute accuracy of DNS, we can analyze LES and RANS in terms of their ability to capture turbulence stochasticity. LES resolves large-scale eddies similarly to DNS, retaining part of the turbulence randomness. However, it remains deterministic at smaller scales due to the use of an SGS model, where uncertainty quantification originates. RANS, in contrast, is fully deterministic, as it does not resolve turbulence fluctuations at any scale but instead models their statistical effects. The uncertainty in RANS modeling arises from two sources: 1) aleatoric uncertainty, which reflects the complete loss of instantaneous turbulence fluctuations and is inherently irreducible, and 2) model-form uncertainty, which represents errors in predicted mean quantities (e.g., velocity, Reynolds stress) due to modeling assumptions.\n",
    "\n",
    "### Aspects of uncertainty\n",
    "\n",
    "Uncertainty in turbulence modeling is categorized into model-form (epistemic) uncertainty, which reflects systematic bias in the mean flow prediction, and aleatoric uncertainty, which quantifies missing or misrepresented turbulence variability. DNS, being the most accurate available reference, requires no uncertainty quantification, while RANS and LES, which rely on deterministic modeling assumptions, introduce both types of uncertainty. RANS lacks turbulence fluctuations entirely, making model-form uncertainty dominant, computed as the discrepancy between the RANS-predicted mean and DNS. LES resolves large-scale turbulence but models small-scale effects using an SGS model, leading to both model-form uncertainty (mean flow bias relative to DNS) and aleatoric uncertainty (misrepresentation of turbulence fluctuations). Aleatoric uncertainty in LES is assessed by comparing the standard deviation of LES fluctuations to DNS, indicating whether turbulence variability is over- or underpredicted. Reducing RANS uncertainty focuses on improving the mean prediction, while LES uncertainty reduction requires better subgrid modeling to align both mean and variance with DNS.\n",
    "\n",
    "\n",
    "Aleatoric uncertainty is computed as the difference in standard deviation between LES and DNS:\n",
    "\n",
    "$$U_{\\text{Aleatoric, LES}} = \\left| \\sigma_{\\text{LES}} - \\sigma_{\\text{DNS}} \\right|$$\n",
    "\n",
    "RANS provides a deterministic mean prediction, its error is best reduced by minimizing its discrepancy from DNS mean flow:\n",
    "\n",
    "$$U_{\\text{MFU, RANS}} = \\left| \\bar{u}{\\text{DNS}} - \\bar{u}{\\text{RANS}} \\right|$$\n"
   ]
  }
 ],
 "metadata": {
  "kernelspec": {
   "display_name": "Python 3 (ipykernel)",
   "language": "python",
   "name": "python3"
  },
  "language_info": {
   "codemirror_mode": {
    "name": "ipython",
    "version": 3
   },
   "file_extension": ".py",
   "mimetype": "text/x-python",
   "name": "python",
   "nbconvert_exporter": "python",
   "pygments_lexer": "ipython3",
   "version": "3.12.7"
  },
  "toc": {
   "base_numbering": 1,
   "nav_menu": {},
   "number_sections": true,
   "sideBar": true,
   "skip_h1_title": false,
   "title_cell": "Table of Contents",
   "title_sidebar": "Contents",
   "toc_cell": false,
   "toc_position": {},
   "toc_section_display": true,
   "toc_window_display": false
  }
 },
 "nbformat": 4,
 "nbformat_minor": 5
}
