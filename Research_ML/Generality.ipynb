{
 "cells": [
  {
   "cell_type": "markdown",
   "id": "ee451fe5",
   "metadata": {},
   "source": [
    "# Generality\n",
    "\n",
    "Generality for a trained Machine Learning model can be categorized into different levels:\n",
    "\n",
    "## Levels of Generality in Machine Learning Models for CFD\n",
    "\n",
    "$\\underline{\\textbf{Basic Generality (Traditional Definition)}}$\n",
    "Definition: A trained model is considered to have a high degree of generality if it can accurately predict different flow cases, such as varying Reynolds number (Re), angle of attack (AoA), and geometries, without requiring retraining.\n",
    "\n",
    "- Common in: Surrogate models, physics-informed NNs, and some ML-based turbulence models.\n",
    "\n",
    "- Limitations: Requires the training dataset to cover a wide range of flow conditions to generalize effectively. \n",
    "\n",
    "$\\underline{\\textbf{Generality in a Diffusion Model (Junior Level)}}$\n",
    "\n",
    "Definition: A trained diffusion model can generate corresponding flow realizations under different conditioning inputs (e.g., RANS, sparse sensor data, low-resolution LES) without retraining.\n",
    "\n",
    "1. Key Strength:\n",
    "- Zero-shot conditioned generation: The model, trained unconditionally, can take in different types of constraints (e.g., RANS, sparse data) and generate the correct corresponding realizations without needing new training.\n",
    "\n",
    "2. Limitation:\n",
    "- Flow cases must remain within the distribution of the training data.\n",
    "- If a case is far outside the training set (e.g., different Re, AoA, or flow regime), the model may fail to generate accurate results.\n",
    "\n",
    "- Example: If trained on LES of a single airfoil shape at AoA = 5°, the model can reconstruct corresponding LES-quality flow given RANS inputs but may not generalize well to a different airfoil or AoA = 30°.\n",
    "\n",
    "\n",
    "$\\underline{\\textbf{High-Level Generality in a Diffusion Model (Senior Level)}}$\n",
    "\n",
    "Definition: A trained diffusion model not only produces flow realizations under different conditioning inputs but also generalizes to entirely different flow regimes (e.g., laminar-to-turbulent transitions, wakes, new geometries, high Re, different angles of attack) without retraining.\n",
    "\n",
    "- A vast and diverse training dataset, covering multiple flow regimes, geometries, Re, and AoA values (as you mentioned, Jianxun Wang suggests 10^3 subsequences for large-scale generalization).\n",
    "- A more advanced architecture, possibly incorporating latent space regularization, physics constraints, and multi-scale representations to ensure generality across vastly different flows.\n",
    "\n",
    "- Very challenging: Difficult to achieve in practice because the model needs to learn a broad probabilistic distribution that encompasses many different flow regimes. It requires huge computational resources for training to cover high-dimensional, multi-regime turbulence physics."
   ]
  },
  {
   "cell_type": "markdown",
   "id": "bd64e519",
   "metadata": {},
   "source": [
    "|Level | What It Means CFD solvers | Example |Limitation \n",
    "|:--------:|:--------:|:--------:|:--------:|\n",
    "|  Basic Generality (Traditional ML)  |  Model generalizes across different flow cases (Re, AoA, geometries) without retraining.    |  Surrogate models trained across multiple AoA values predict unseen cases.  |Requires diverse training data across all expected conditions.\n",
    "| Junior Level Generality (Diffusion Model)  | Generates correct flow realizations given different conditioning inputs without retraining.  |  Trained model reconstructs LES fields from RANS input but only for trained airfoil at specific AoA. |Limited to flow conditions similar to the training data.\n",
    "| Senior Level Generality (Diffusion Model)   |  Generates flow fields across completely different flow regimes, geometries, Re, and AoA without retraining.  |   Single model handles laminar-to-turbulent transitions, wakes, compressible flows, and different geometries.  |Requires vast training data and advanced model architecture.\n",
    "\n"
   ]
  }
 ],
 "metadata": {
  "kernelspec": {
   "display_name": "Python 3 (ipykernel)",
   "language": "python",
   "name": "python3"
  },
  "language_info": {
   "codemirror_mode": {
    "name": "ipython",
    "version": 3
   },
   "file_extension": ".py",
   "mimetype": "text/x-python",
   "name": "python",
   "nbconvert_exporter": "python",
   "pygments_lexer": "ipython3",
   "version": "3.12.7"
  },
  "toc": {
   "base_numbering": 1,
   "nav_menu": {},
   "number_sections": true,
   "sideBar": true,
   "skip_h1_title": false,
   "title_cell": "Table of Contents",
   "title_sidebar": "Contents",
   "toc_cell": false,
   "toc_position": {},
   "toc_section_display": true,
   "toc_window_display": false
  }
 },
 "nbformat": 4,
 "nbformat_minor": 5
}
