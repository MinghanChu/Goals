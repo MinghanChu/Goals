{
 "cells": [
  {
   "cell_type": "markdown",
   "id": "bf3182b1",
   "metadata": {},
   "source": [
    "# Case 3 - periodic hill\n",
    "\n",
    "## UnconditionalDiffusionTraining_and_Generation\n",
    "\n",
    "path: `/HOME/scw6dou/run/minghan/CoNFiLD/UnconditionalDiffusionTraining_and_Generation/case3/training_recipes`\n",
    "\n",
    "changes made within `case3.yml`\n",
    "\n",
    "1. change `test_batch_size：16`  to `test_batch_size：1` \n",
    "    - segmentation error if 16 is used\n",
    "\n",
    "$\\underline{\\textbf{How to debug}}$\n",
    "\n",
    "The segmentation fault likely happens within the `p_sample_loop`, add **prints** before calling it and after generating samples. \n",
    "    \n",
    "  \n",
    " \n",
    "2. depending on the problem dimension, the `max_val` and `min_val` need to be set accordingly. \n",
    "    - for example, the 2D periodic hill must have the shape match with the correct latents. \n",
    "    - shape of latents: \n",
    "    - shape of max_val and min_val\n",
    "    - numpy type of the max and min values needs to be converted to PyTorch type\n",
    "    \n"
   ]
  },
  {
   "cell_type": "code",
   "execution_count": null,
   "id": "c0f85c28",
   "metadata": {},
   "outputs": [],
   "source": []
  }
 ],
 "metadata": {
  "kernelspec": {
   "display_name": "Python 3 (ipykernel)",
   "language": "python",
   "name": "python3"
  },
  "language_info": {
   "codemirror_mode": {
    "name": "ipython",
    "version": 3
   },
   "file_extension": ".py",
   "mimetype": "text/x-python",
   "name": "python",
   "nbconvert_exporter": "python",
   "pygments_lexer": "ipython3",
   "version": "3.12.7"
  },
  "toc": {
   "base_numbering": 1,
   "nav_menu": {},
   "number_sections": true,
   "sideBar": true,
   "skip_h1_title": false,
   "title_cell": "Table of Contents",
   "title_sidebar": "Contents",
   "toc_cell": false,
   "toc_position": {},
   "toc_section_display": true,
   "toc_window_display": false
  }
 },
 "nbformat": 4,
 "nbformat_minor": 5
}
