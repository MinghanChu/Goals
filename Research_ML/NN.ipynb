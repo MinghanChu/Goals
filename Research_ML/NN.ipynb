{
 "cells": [
  {
   "cell_type": "markdown",
   "id": "a1c14d9f",
   "metadata": {},
   "source": [
    "# Generative Models vs Discriminative Models \n",
    "\n",
    "Discriminative models maps inputs to outputs. Generative models learns the underlying data distribution to generate new samples.\n",
    "\n",
    "## Discriminative Models (Focus on classification, regression, or decision-making)\n",
    "\n",
    "1.Traditional Discriminative Models\n",
    "\n",
    "- Linear Regression\n",
    "- Logistic Regression\n",
    "- Support Vector Machines (SVMs)\n",
    "\n",
    "2.Neural Networks for Discriminative Tasks\n",
    "- Multi-Layer Perceptrons (MLPs)\n",
    "- Convolutional Neural Networks (CNNs)\n",
    "- Recurrent Neural Networks (RNNs)\n",
    "- Bidirectional Encoder Representations from Transformers (BERT)\n",
    "\n",
    "3.Reinforcement Learning (RL) Models\n",
    "- Deep Q-Networks (DQNs)\n",
    "- Proximal Policy Optimization (PPO)\n",
    "- Trust Region Policy Optimization (TRPO)\n",
    "\n",
    "## Generative Models (Focus on learning the data distribution to generate new samples)\n",
    "1. Generative Adversarial Networks (GANs)\n",
    "2. Variational Autoencoders (VAEs)\n",
    "3. Diffusion Models\n",
    "4. Autoregressive Models (e.g., Generative Pre-trained Transformer (GPT))\n",
    "5 Normalizing Flows"
   ]
  }
 ],
 "metadata": {
  "kernelspec": {
   "display_name": "Python 3 (ipykernel)",
   "language": "python",
   "name": "python3"
  },
  "language_info": {
   "codemirror_mode": {
    "name": "ipython",
    "version": 3
   },
   "file_extension": ".py",
   "mimetype": "text/x-python",
   "name": "python",
   "nbconvert_exporter": "python",
   "pygments_lexer": "ipython3",
   "version": "3.12.7"
  },
  "toc": {
   "base_numbering": 1,
   "nav_menu": {},
   "number_sections": true,
   "sideBar": true,
   "skip_h1_title": false,
   "title_cell": "Table of Contents",
   "title_sidebar": "Contents",
   "toc_cell": false,
   "toc_position": {},
   "toc_section_display": true,
   "toc_window_display": false
  }
 },
 "nbformat": 4,
 "nbformat_minor": 5
}
