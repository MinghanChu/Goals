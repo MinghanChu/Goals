{
 "cells": [
  {
   "cell_type": "markdown",
   "id": "dbe2d426",
   "metadata": {},
   "source": [
    "# Torch tensor class"
   ]
  },
  {
   "cell_type": "markdown",
   "id": "19fa730e",
   "metadata": {},
   "source": [
    "In the Pytorch (torch) library, there are various **tensor operations**, e.g., `torch.randn`. `torch.randn` is a function that belongs to `torch.tensor` class. `torch.randn` returns an instance of the`torch.Tensor` class, which  represents multi-dimensional arrays in PyTorch. Check the type to see the details:"
   ]
  },
  {
   "cell_type": "code",
   "execution_count": 2,
   "id": "bfe57006",
   "metadata": {},
   "outputs": [
    {
     "name": "stdout",
     "output_type": "stream",
     "text": [
      "<class 'builtin_function_or_method'>\n"
     ]
    }
   ],
   "source": [
    "import torch\n",
    "print(type(torch.randn))  "
   ]
  },
  {
   "cell_type": "code",
   "execution_count": 3,
   "id": "371b018a",
   "metadata": {},
   "outputs": [
    {
     "name": "stdout",
     "output_type": "stream",
     "text": [
      "<class 'torch.Tensor'>\n"
     ]
    }
   ],
   "source": [
    "tensor = torch.randn(2, 3)\n",
    "print(type(tensor))  "
   ]
  },
  {
   "cell_type": "markdown",
   "id": "6df29401",
   "metadata": {},
   "source": [
    "`torch.randn` is a built-in function (method) inside torch that returns a torch.Tensor object. When `torch.randn(...)` is called, it instantiates (creates) a `torch.Tensor` instance, storing the random values in it. `tensor` now behaves like an instance of the `torch.Tensor` class, meaning it has all the tensor properties and methods."
   ]
  },
  {
   "cell_type": "markdown",
   "id": "22aa69c8",
   "metadata": {},
   "source": [
    "## Creating multi-dimensional arrays in PyTorch"
   ]
  },
  {
   "cell_type": "markdown",
   "id": "56a4b6f6",
   "metadata": {},
   "source": [
    "In general, the shape of a multi-dimensional array means: \n",
    "\n",
    "(Batch → Groups → Rows → Columns → Depth → Elements per depth)\n",
    "\n",
    "while In a very high-dimensional tensor (more than 3 dimensions), **naming conventions** vary depending on the application. While \"depth\" is commonly used for the 4th dimension in computer vision and 3D processing, higher dimensions don’t have fixed names and are **typically described based on their role in the data.**"
   ]
  },
  {
   "cell_type": "code",
   "execution_count": 4,
   "id": "3fe2526f",
   "metadata": {},
   "outputs": [
    {
     "name": "stdout",
     "output_type": "stream",
     "text": [
      "torch.Size([1, 2, 3, 4, 5])\n"
     ]
    }
   ],
   "source": [
    "tensor = torch.randn((1, 2, 3, 4, 5))  # Shape: (1, 2, 3, 4, 5)\n",
    "print(tensor.shape)  # Output: torch.Size([1, 2, 3, 4, 5])"
   ]
  },
  {
   "cell_type": "markdown",
   "id": "f60d4ee5",
   "metadata": {},
   "source": [
    "\n",
    "| Dimension Index | Size | Meaning |\n",
    "| --- | --- | --- |\n",
    "| 0th dim | 1 | number of batches |\n",
    "| 1th dim | 2 | number of groups per batch|\n",
    "| 2th dim | 3 | number of rows each group |\n",
    "| 3th dim | 4 | number of columns in each row|\n",
    "| 4th dim | 5 | number of elements per column|"
   ]
  },
  {
   "cell_type": "markdown",
   "id": "17b774d4",
   "metadata": {},
   "source": [
    "For example, `torch.randn((test_batch_size, 1, time_length, latent_length), device=device)` where 1 represents channel argument that typically refers to the **depth of data representation**, and the created multi-dimensional array is stored on the defined device."
   ]
  },
  {
   "cell_type": "code",
   "execution_count": 14,
   "id": "c52296c0",
   "metadata": {},
   "outputs": [
    {
     "name": "stdout",
     "output_type": "stream",
     "text": [
      "The data is stored on: cpu\n",
      "The data looks like: tensor([[[[-0.5037, -0.3189, -0.1306],\n",
      "          [ 1.4282, -0.1728, -0.5081]]]])\n"
     ]
    }
   ],
   "source": [
    "## Setup\n",
    "if torch.cuda.is_available():  \n",
    "  device = \"cuda\" \n",
    "else:  \n",
    "  device = \"cpu\"\n",
    "\n",
    "test_batch_size = 1\n",
    "time_length = 2\n",
    "latent_length = 3\n",
    "\n",
    "data = torch.randn((test_batch_size, 1, time_length, latent_length), device=device)\n",
    "print(f\"The data is stored on: {device}\")\n",
    "print(f\"The data looks like: {data}\")"
   ]
  },
  {
   "cell_type": "markdown",
   "id": "dbeef608",
   "metadata": {},
   "source": [
    "Note PyTorch arranges the "
   ]
  }
 ],
 "metadata": {
  "kernelspec": {
   "display_name": "Python 3 (ipykernel)",
   "language": "python",
   "name": "python3"
  },
  "language_info": {
   "codemirror_mode": {
    "name": "ipython",
    "version": 3
   },
   "file_extension": ".py",
   "mimetype": "text/x-python",
   "name": "python",
   "nbconvert_exporter": "python",
   "pygments_lexer": "ipython3",
   "version": "3.12.7"
  },
  "toc": {
   "base_numbering": 1,
   "nav_menu": {},
   "number_sections": true,
   "sideBar": true,
   "skip_h1_title": false,
   "title_cell": "Table of Contents",
   "title_sidebar": "Contents",
   "toc_cell": false,
   "toc_position": {},
   "toc_section_display": true,
   "toc_window_display": false
  }
 },
 "nbformat": 4,
 "nbformat_minor": 5
}
