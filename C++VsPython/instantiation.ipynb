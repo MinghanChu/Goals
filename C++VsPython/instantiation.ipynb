{
 "cells": [
  {
   "cell_type": "markdown",
   "id": "f9fa8d4e",
   "metadata": {},
   "source": [
    "# skipping instantiation step in Python"
   ]
  },
  {
   "cell_type": "markdown",
   "id": "432f7e4a",
   "metadata": {},
   "source": [
    "1. C++ must explicitly instantiate a class by calling its constructor while instantiation in Python can either through calling the constructor (`__init__`) or by **factory functions** to implicitly instantiate the class object."
   ]
  },
  {
   "cell_type": "code",
   "execution_count": null,
   "id": "20b68f48",
   "metadata": {},
   "outputs": [],
   "source": []
  }
 ],
 "metadata": {
  "kernelspec": {
   "display_name": "Python 3 (ipykernel)",
   "language": "python",
   "name": "python3"
  },
  "language_info": {
   "codemirror_mode": {
    "name": "ipython",
    "version": 3
   },
   "file_extension": ".py",
   "mimetype": "text/x-python",
   "name": "python",
   "nbconvert_exporter": "python",
   "pygments_lexer": "ipython3",
   "version": "3.12.7"
  },
  "toc": {
   "base_numbering": 1,
   "nav_menu": {},
   "number_sections": true,
   "sideBar": true,
   "skip_h1_title": false,
   "title_cell": "Table of Contents",
   "title_sidebar": "Contents",
   "toc_cell": false,
   "toc_position": {},
   "toc_section_display": true,
   "toc_window_display": false
  }
 },
 "nbformat": 4,
 "nbformat_minor": 5
}
